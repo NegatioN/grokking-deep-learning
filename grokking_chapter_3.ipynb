{
 "cells": [
  {
   "cell_type": "code",
   "execution_count": 2,
   "metadata": {
    "collapsed": false
   },
   "outputs": [
    {
     "name": "stdout",
     "output_type": "stream",
     "text": [
      "0.25\n"
     ]
    }
   ],
   "source": [
    "knob = 0.5\n",
    "other_thing = 0.5\n",
    "result = knob * other_thing\n",
    "print(result)"
   ]
  },
  {
   "cell_type": "code",
   "execution_count": 3,
   "metadata": {
    "collapsed": true
   },
   "outputs": [],
   "source": [
    "goal_prediction = 0.8\n",
    "error =(result - goal_prediction) ** 2"
   ]
  },
  {
   "cell_type": "code",
   "execution_count": 4,
   "metadata": {
    "collapsed": false
   },
   "outputs": [
    {
     "name": "stdout",
     "output_type": "stream",
     "text": [
      "error=0.3025 Prediction=0.25\n",
      "error=0.30195025 Prediction=0.2505\n",
      "error=0.301401 Prediction=0.251\n",
      "error=0.30085225 Prediction=0.2515\n",
      "error=0.300304 Prediction=0.252\n",
      "error=0.29975625 Prediction=0.2525\n",
      "error=0.299209 Prediction=0.253\n",
      "error=0.29866225 Prediction=0.2535\n",
      "error=0.298116 Prediction=0.254\n",
      "error=0.29757025 Prediction=0.2545\n",
      "error=0.297025 Prediction=0.255\n",
      "error=0.29648025 Prediction=0.2555\n",
      "error=0.295936 Prediction=0.256\n",
      "error=0.29539225 Prediction=0.2565\n",
      "error=0.294849 Prediction=0.257\n",
      "error=0.29430625 Prediction=0.2575\n",
      "error=0.293764 Prediction=0.258\n",
      "error=0.29322225 Prediction=0.2585\n",
      "error=0.292681 Prediction=0.259\n",
      "error=0.29214025 Prediction=0.2595\n"
     ]
    }
   ],
   "source": [
    "step_amount = 0.001\n",
    "knob = 0.5\n",
    "for iteration in range(20):\n",
    "    prediction = knob * other_thing\n",
    "    error = (prediction - goal_prediction) ** 2\n",
    "    print(\"error=\" + str(error) + \" Prediction=\" + str(prediction))\n",
    "    \n",
    "    up_knob = knob + step_amount\n",
    "    up_prediction = other_thing * up_knob\n",
    "    up_error = (up_prediction - goal_prediction) ** 2\n",
    "    \n",
    "    down_knob = knob - step_amount\n",
    "    down_prediction = other_thing * down_knob\n",
    "    down_error = (down_prediction - goal_prediction) ** 2\n",
    "    \n",
    "    knob = up_knob if down_error > up_error else down_knob\n",
    "        "
   ]
  },
  {
   "cell_type": "code",
   "execution_count": 10,
   "metadata": {
    "collapsed": false
   },
   "outputs": [
    {
     "name": "stdout",
     "output_type": "stream",
     "text": [
      "error=0.3025 Prediction=0.25\n",
      "error=0.17015625 Prediction=0.3875\n",
      "error=0.095712890625 Prediction=0.490625\n",
      "error=0.0538385009766 Prediction=0.56796875\n",
      "error=0.0302841567993 Prediction=0.6259765625\n",
      "error=0.0170348381996 Prediction=0.669482421875\n",
      "error=0.00958209648728 Prediction=0.702111816406\n",
      "error=0.0053899292741 Prediction=0.726583862305\n",
      "error=0.00303183521668 Prediction=0.744937896729\n",
      "error=0.00170540730938 Prediction=0.758703422546\n",
      "error=0.000959291611528 Prediction=0.76902756691\n",
      "error=0.000539601531484 Prediction=0.776770675182\n",
      "error=0.00030352586146 Prediction=0.782578006387\n",
      "error=0.000170733297071 Prediction=0.78693350479\n",
      "error=9.60374796025e-05 Prediction=0.790200128593\n",
      "error=5.40210822764e-05 Prediction=0.792650096444\n",
      "error=3.03868587805e-05 Prediction=0.794487572333\n",
      "error=1.7092608064e-05 Prediction=0.79586567925\n",
      "error=9.61459203602e-06 Prediction=0.796899259437\n",
      "error=5.40820802026e-06 Prediction=0.797674444578\n",
      "error=3.0421170114e-06 Prediction=0.798255833434\n",
      "error=1.71119081891e-06 Prediction=0.798691875075\n",
      "error=9.62544835637e-07 Prediction=0.799018906306\n",
      "error=5.41431470046e-07 Prediction=0.79926417973\n",
      "error=3.04555201901e-07 Prediction=0.799448134797\n",
      "error=1.71312301069e-07 Prediction=0.799586101098\n",
      "error=9.63631693514e-08 Prediction=0.799689575824\n",
      "error=5.42042827602e-08 Prediction=0.799767181868\n",
      "error=3.04899090526e-08 Prediction=0.799825386401\n",
      "error=1.71505738421e-08 Prediction=0.799869039801\n",
      "error=9.64719778617e-09 Prediction=0.79990177985\n",
      "error=5.42654875471e-09 Prediction=0.799926334888\n",
      "error=3.05243367453e-09 Prediction=0.799944751166\n",
      "error=1.71699394192e-09 Prediction=0.799958563374\n",
      "error=9.65809092329e-10 Prediction=0.799968922531\n",
      "error=5.43267614434e-10 Prediction=0.799976691898\n",
      "error=3.05588033119e-10 Prediction=0.799982518924\n",
      "error=1.71893268629e-10 Prediction=0.799986889193\n",
      "error=9.66899636052e-11 Prediction=0.799990166895\n",
      "error=5.43881045271e-11 Prediction=0.799992625171\n",
      "error=3.05933087965e-11 Prediction=0.799994468878\n",
      "error=1.72087361983e-11 Prediction=0.799995851659\n",
      "error=9.67991411134e-12 Prediction=0.799996888744\n",
      "error=5.44495168789e-12 Prediction=0.799997666558\n",
      "error=3.06278532444e-12 Prediction=0.799998249918\n",
      "error=1.72281674507e-12 Prediction=0.799998687439\n",
      "error=9.69084418992e-13 Prediction=0.799999015579\n",
      "error=5.45109985683e-13 Prediction=0.799999261684\n",
      "error=3.06624366916e-13 Prediction=0.799999446263\n",
      "error=1.7247620639e-13 Prediction=0.799999584697\n"
     ]
    }
   ],
   "source": [
    "knob_weight = 0.5\n",
    "input = 0.5\n",
    "\n",
    "for iteration in range(50):\n",
    "    prediction = input * knob_weight\n",
    "    error = (goal_prediction - prediction) ** 2\n",
    "    derivative = input * (prediction - goal_prediction) #gradient decent\n",
    "    knob_weight = knob_weight - derivative #move towards the goal quicker if we're far away, and slower if we're close\n",
    "    print(\"error=\" + str(error) + \" Prediction=\" + str(prediction))\n",
    "    "
   ]
  },
  {
   "cell_type": "code",
   "execution_count": 21,
   "metadata": {
    "collapsed": false
   },
   "outputs": [
    {
     "name": "stdout",
     "output_type": "stream",
     "text": [
      "error=3.0625 prediction=0.25\n",
      "error=1.72265625 prediction=0.6875\n",
      "error=0.968994140625 prediction=1.015625\n",
      "error=0.545059204102 prediction=1.26171875\n",
      "error=0.306595802307 prediction=1.4462890625\n",
      "error=0.172460138798 prediction=1.58471679688\n",
      "error=0.0970088280737 prediction=1.68853759766\n",
      "error=0.0545674657915 prediction=1.76640319824\n",
      "error=0.0306941995077 prediction=1.82480239868\n",
      "error=0.0172654872231 prediction=1.86860179901\n",
      "error=0.00971183656299 prediction=1.90145134926\n",
      "error=0.00546290806668 prediction=1.92608851194\n",
      "error=0.00307288578751 prediction=1.94456638396\n",
      "error=0.00172849825547 prediction=1.95842478797\n",
      "error=0.000972280268703 prediction=1.96881859098\n",
      "error=0.000546907651146 prediction=1.97661394323\n",
      "error=0.000307635553769 prediction=1.98246045742\n",
      "error=0.000173044998995 prediction=1.98684534307\n",
      "error=9.73378119349e-05 prediction=1.9901340073\n",
      "error=5.47525192134e-05 prediction=1.99260050548\n"
     ]
    }
   ],
   "source": [
    "#building my own\n",
    "\n",
    "knob = 0.5\n",
    "input = 0.5\n",
    "alpha = 1\n",
    "p_goal = 2\n",
    "\n",
    "for value in xrange(20):\n",
    "    prediction = input * knob\n",
    "    error = (prediction - p_goal) ** 2 #square the error to ensure positive result, and magnifying errors.\n",
    "    \n",
    "    derivative = input * (prediction - p_goal)\n",
    "    knob = knob - (alpha * derivative)\n",
    "    print(\"error=\" + str(error) + \" prediction=\" + str(prediction))\n"
   ]
  },
  {
   "cell_type": "code",
   "execution_count": null,
   "metadata": {
    "collapsed": true
   },
   "outputs": [],
   "source": []
  }
 ],
 "metadata": {
  "kernelspec": {
   "display_name": "Python 2",
   "language": "python",
   "name": "python2"
  },
  "language_info": {
   "codemirror_mode": {
    "name": "ipython",
    "version": 2
   },
   "file_extension": ".py",
   "mimetype": "text/x-python",
   "name": "python",
   "nbconvert_exporter": "python",
   "pygments_lexer": "ipython2",
   "version": "2.7.11"
  }
 },
 "nbformat": 4,
 "nbformat_minor": 0
}
